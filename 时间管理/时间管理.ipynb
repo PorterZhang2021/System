{
 "cells": [
  {
   "cell_type": "markdown",
   "metadata": {},
   "source": [
    "时间:22年10月17日\n",
    "\n",
    "时间管理 \n",
    "\n",
    "第一次内容添加\n",
    "\n",
    "基本原则：\n",
    "1. 按日，月，年进行审查回顾\n",
    "2. 采用最基本的清单列表法\n",
    "   1. 写出一天要做的事情\n",
    "   2. 做完一样划去一样\n",
    "3. 方法的迭代与更新先按周来\n",
    "4. 《吃掉那只青蛙》书中的吃掉最难的那只青蛙方法附加->下次方法更新一周后"
   ]
  }
 ],
 "metadata": {
  "language_info": {
   "name": "python"
  },
  "orig_nbformat": 4
 },
 "nbformat": 4,
 "nbformat_minor": 2
}
